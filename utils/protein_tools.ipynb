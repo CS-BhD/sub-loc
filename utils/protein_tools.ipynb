{
 "metadata": {
  "language_info": {
   "codemirror_mode": {
    "name": "ipython",
    "version": 3
   },
   "file_extension": ".py",
   "mimetype": "text/x-python",
   "name": "python",
   "nbconvert_exporter": "python",
   "pygments_lexer": "ipython3",
   "version": "3.6.11-final"
  },
  "orig_nbformat": 2,
  "kernelspec": {
   "name": "Python 3.6.11 64-bit ('pytorch1': conda)",
   "display_name": "Python 3.6.11 64-bit ('pytorch1': conda)",
   "metadata": {
    "interpreter": {
     "hash": "fd176d7d9f2e09bf554c77718f094af6cd1666359eb398991b9d476b27c4d6c5"
    }
   }
  }
 },
 "nbformat": 4,
 "nbformat_minor": 2,
 "cells": [
  {
   "cell_type": "code",
   "execution_count": 50,
   "metadata": {},
   "outputs": [],
   "source": [
    "import pandas as pd\n",
    "\n",
    "from Bio import SeqIO\n",
    "\n",
    "import re\n",
    "\n",
    "def read_file(file, format='fasta', label=None):\n",
    "    \"\"\" Read protein sequence file\n",
    "\n",
    "    Parameters:\n",
    "        file(string): file name\n",
    "        format(string): the format of file\n",
    "        label(int): the \n",
    "    \"\"\"\n",
    "    data = []\n",
    "    for seq_record in SeqIO.parse(file, format):\n",
    "        # 出现非氨基酸的位置使用＇－＇替换\n",
    "        data.append([seq_record.id.split('|')[1], re.sub('[BJOUXZ]', '-', str(seq_record.seq).upper()), label])\n",
    "        # 或者可以去掉\n",
    "        # if re.search('[BJOUXZ]', str(seq_record.seq)) is None:\n",
    "        #     data.append([str(seq_record.seq), label])\n",
    "    return data\n",
    "\n",
    "\n"
   ]
  },
  {
   "cell_type": "code",
   "execution_count": 51,
   "metadata": {},
   "outputs": [],
   "source": [
    "from pathlib import Path\n",
    "# 读取数据\n",
    "TRAIN_PATH = Path(\"E:/code/jupyterNoteBook/Neural_network_learning-master/data/protein_data/submitochondrial/single-compartment/train\")\n",
    "TRAIN_out = TRAIN_PATH / \"out.fasta\"\n",
    "TRAIN_inner = TRAIN_PATH / \"inner.fasta\"\n",
    "TRAIN_matrix = TRAIN_PATH / \"matrix.fasta\"\n",
    "TRAIN_space = TRAIN_PATH / \"space.fasta\"\n",
    "\n",
    "train_out_data = read_file(TRAIN_out, 'fasta', 0)\n",
    "train_inner_data = read_file(TRAIN_inner, 'fasta', 1)\n",
    "train_matrix_data = read_file(TRAIN_matrix, 'fasta', 2)\n",
    "train_space_data = read_file(TRAIN_space, 'fasta', 3)\n",
    "\n",
    "TEST_PATH = Path(\"E:/code/jupyterNoteBook/Neural_network_learning-master/data/protein_data/submitochondrial/single-compartment/40-simi\")\n",
    "TEST_out = TEST_PATH / \"out.fasta\"\n",
    "TEST_inner = TEST_PATH / \"inner.fasta\"\n",
    "TEST_matrix = TEST_PATH / \"matrix.fasta\"\n",
    "TEST_space = TEST_PATH / \"space.fasta\"\n",
    "\n",
    "test_out_data = read_file(TEST_out, 'fasta', 0)\n",
    "test_inner_data = read_file(TEST_inner, 'fasta', 1)\n",
    "test_matrix_data = read_file(TEST_matrix, 'fasta', 2)\n",
    "test_space_data = read_file(TEST_space, 'fasta', 3)\n",
    "\n",
    "train_data = train_out_data + train_inner_data + train_matrix_data + train_space_data\n",
    "\n",
    "test_data = test_out_data + test_inner_data + test_matrix_data + test_space_data"
   ]
  },
  {
   "cell_type": "code",
   "execution_count": 52,
   "metadata": {},
   "outputs": [],
   "source": [
    "df_train = pd.DataFrame(train_data, columns=['protein_id', 'sequence', 'label'])\n",
    "df_train.to_csv('E:/code/jupyterNoteBook/Neural_network_learning-master/data/protein_data/submitochondrial/single-compartment/train.csv', index=False)"
   ]
  },
  {
   "cell_type": "code",
   "execution_count": 53,
   "metadata": {},
   "outputs": [],
   "source": [
    "df_test = pd.DataFrame(test_data, columns=['protein_id', 'sequence', 'label'])\n",
    "df_test.to_csv('E:/code/jupyterNoteBook/Neural_network_learning-master/data/protein_data/submitochondrial/single-compartment/test.csv', index=False)"
   ]
  },
  {
   "cell_type": "code",
   "execution_count": 74,
   "metadata": {},
   "outputs": [
    {
     "output_type": "execute_result",
     "data": {
      "text/plain": [
       "                                               sequence  label\n",
       "0     MATPEASGSGRNGQGSDPAVTYYRLEEVAKRNTAEETWMVIHGRVY...      0\n",
       "1     MQAHELFRYFRMPELVDFRQYVRTLPTNTLMGFGAFAALTTFWYAT...      0\n",
       "2     MKSILDGLADTTFRTITTDLLYVGSNDIQYEDIKGDMASKLGYFPQ...      0\n",
       "3     MGRTREAGCVAAGVVIGAGACYCVYRLAWGRDENEKIWDEDEESTD...      0\n",
       "4     MVLETISRIIKIQLPAYLKKLPLPETIGGFARLTVSDWLRLLPLLG...      0\n",
       "...                                                 ...    ...\n",
       "7777  MEQFKDLQKSLYIWTDSGELDKRVQTIKEATGGEVAVENVHRLSFS...      3\n",
       "7778  MTQLIITHQSDSKLEESEVFLSELNRIKKEEDKFGKFSSLSDLRAI...      3\n",
       "7779  MSEILLLLHPTVVTEESLVESAKSGLSGKFPEASLTQHIIDRIAND...      3\n",
       "7780  MPSLPVLIDTTPDFDFAPAQDATQKRTLLLAPPSIAAHEEKLRDIF...      3\n",
       "7781  MTSSINILLLLHPTVVTDAQLVEQIKSKIYQSHNNNNNNNGGTTTT...      3\n",
       "\n",
       "[7782 rows x 2 columns]"
      ],
      "text/html": "<div>\n<style scoped>\n    .dataframe tbody tr th:only-of-type {\n        vertical-align: middle;\n    }\n\n    .dataframe tbody tr th {\n        vertical-align: top;\n    }\n\n    .dataframe thead th {\n        text-align: right;\n    }\n</style>\n<table border=\"1\" class=\"dataframe\">\n  <thead>\n    <tr style=\"text-align: right;\">\n      <th></th>\n      <th>sequence</th>\n      <th>label</th>\n    </tr>\n  </thead>\n  <tbody>\n    <tr>\n      <th>0</th>\n      <td>MATPEASGSGRNGQGSDPAVTYYRLEEVAKRNTAEETWMVIHGRVY...</td>\n      <td>0</td>\n    </tr>\n    <tr>\n      <th>1</th>\n      <td>MQAHELFRYFRMPELVDFRQYVRTLPTNTLMGFGAFAALTTFWYAT...</td>\n      <td>0</td>\n    </tr>\n    <tr>\n      <th>2</th>\n      <td>MKSILDGLADTTFRTITTDLLYVGSNDIQYEDIKGDMASKLGYFPQ...</td>\n      <td>0</td>\n    </tr>\n    <tr>\n      <th>3</th>\n      <td>MGRTREAGCVAAGVVIGAGACYCVYRLAWGRDENEKIWDEDEESTD...</td>\n      <td>0</td>\n    </tr>\n    <tr>\n      <th>4</th>\n      <td>MVLETISRIIKIQLPAYLKKLPLPETIGGFARLTVSDWLRLLPLLG...</td>\n      <td>0</td>\n    </tr>\n    <tr>\n      <th>...</th>\n      <td>...</td>\n      <td>...</td>\n    </tr>\n    <tr>\n      <th>7777</th>\n      <td>MEQFKDLQKSLYIWTDSGELDKRVQTIKEATGGEVAVENVHRLSFS...</td>\n      <td>3</td>\n    </tr>\n    <tr>\n      <th>7778</th>\n      <td>MTQLIITHQSDSKLEESEVFLSELNRIKKEEDKFGKFSSLSDLRAI...</td>\n      <td>3</td>\n    </tr>\n    <tr>\n      <th>7779</th>\n      <td>MSEILLLLHPTVVTEESLVESAKSGLSGKFPEASLTQHIIDRIAND...</td>\n      <td>3</td>\n    </tr>\n    <tr>\n      <th>7780</th>\n      <td>MPSLPVLIDTTPDFDFAPAQDATQKRTLLLAPPSIAAHEEKLRDIF...</td>\n      <td>3</td>\n    </tr>\n    <tr>\n      <th>7781</th>\n      <td>MTSSINILLLLHPTVVTDAQLVEQIKSKIYQSHNNNNNNNGGTTTT...</td>\n      <td>3</td>\n    </tr>\n  </tbody>\n</table>\n<p>7782 rows × 2 columns</p>\n</div>"
     },
     "metadata": {},
     "execution_count": 74
    }
   ],
   "source": [
    "train = pd.read_csv('E:/code/jupyterNoteBook/Neural_network_learning-master/data/protein_data/submitochondrial/single-compartment/train.csv', usecols=[1, 2], header=0, index_col=False)\n",
    "train"
   ]
  },
  {
   "cell_type": "code",
   "execution_count": 83,
   "metadata": {},
   "outputs": [
    {
     "output_type": "execute_result",
     "data": {
      "text/plain": [
       "(7782,)"
      ]
     },
     "metadata": {},
     "execution_count": 83
    }
   ],
   "source": [
    "sequences = train['sequence'].values\n",
    "labels = train['label'].values\n",
    "labels.shape"
   ]
  }
 ]
}